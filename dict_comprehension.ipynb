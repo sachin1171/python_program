{
 "cells": [
  {
   "cell_type": "markdown",
   "metadata": {},
   "source": [
    "+ dictionaries are data types in python which allow us to store the data in key/value pairs"
   ]
  },
  {
   "cell_type": "code",
   "execution_count": 1,
   "metadata": {},
   "outputs": [
    {
     "data": {
      "text/plain": [
       "{1: 'apple', 2: 'orange'}"
      ]
     },
     "execution_count": 1,
     "metadata": {},
     "output_type": "execute_result"
    }
   ],
   "source": [
    "my_dict = {1: 'apple',2 :'orange'}\n",
    "my_dict"
   ]
  },
  {
   "cell_type": "markdown",
   "metadata": {},
   "source": [
    "+ dictionary comphrension is an elegant and concise way to create dictionaries\n"
   ]
  },
  {
   "cell_type": "code",
   "execution_count": 8,
   "metadata": {},
   "outputs": [
    {
     "name": "stdout",
     "output_type": "stream",
     "text": [
      "{1: 1, 2: 4, 3: 9, 4: 16, 5: 25, 6: 36, 7: 49, 8: 64, 9: 81, 10: 100}\n"
     ]
    }
   ],
   "source": [
    "a = dict()\n",
    "for num in range(1,11):\n",
    "    a[num] = num * num\n",
    "print(a)   "
   ]
  },
  {
   "cell_type": "code",
   "execution_count": 10,
   "metadata": {},
   "outputs": [
    {
     "name": "stdout",
     "output_type": "stream",
     "text": [
      "{1: 1, 2: 4, 3: 9, 4: 16, 5: 25, 6: 36, 7: 49, 8: 64, 9: 81, 10: 100}\n"
     ]
    }
   ],
   "source": [
    "a = {num:num * num for num in range(1,11)}\n",
    "print(a)"
   ]
  },
  {
   "cell_type": "code",
   "execution_count": 27,
   "metadata": {
    "scrolled": true
   },
   "outputs": [
    {
     "name": "stdout",
     "output_type": "stream",
     "text": [
      "{'milk': 0.7752, 'coffe': 1.9, 'bread': 1.9}\n"
     ]
    }
   ],
   "source": [
    "old_price = {'milk': 1.02,'coffe': 2.5,'bread': 2.5}\n",
    "dollar_to_pound = 0.76\n",
    "for key,value in old_price.items():\n",
    "    old_price[key] = value * dollar_to_pound\n",
    "print(old_price)"
   ]
  },
  {
   "cell_type": "code",
   "execution_count": 28,
   "metadata": {},
   "outputs": [
    {
     "data": {
      "text/plain": [
       "{'milk': 0.7752, 'coffe': 1.9, 'bread': 1.9}"
      ]
     },
     "execution_count": 28,
     "metadata": {},
     "output_type": "execute_result"
    }
   ],
   "source": [
    "old_price = {'milk': 1.02,'coffe': 2.5,'bread': 2.5}\n",
    "new_price = {key: value * dollar_to_pound for (key,value) in old_price.items()}\n",
    "new_price"
   ]
  },
  {
   "cell_type": "markdown",
   "metadata": {},
   "source": [
    " ### if conditional in Dictionary comprehension"
   ]
  },
  {
   "cell_type": "code",
   "execution_count": 32,
   "metadata": {},
   "outputs": [
    {
     "name": "stdout",
     "output_type": "stream",
     "text": [
      "{'venkat': 24}\n"
     ]
    }
   ],
   "source": [
    "a ={'sachin': 21,'venkat': 24,'Guido': 57}\n",
    "b = {k: v for k,v in a.items() if v% 2 == 0}\n",
    "print(b)"
   ]
  },
  {
   "cell_type": "code",
   "execution_count": 72,
   "metadata": {},
   "outputs": [
    {
     "name": "stdout",
     "output_type": "stream",
     "text": [
      "{'venkat': 24}\n"
     ]
    }
   ],
   "source": [
    "a ={'sachin': 21,'venkat': 24,'Guido': 57}\n",
    "b = dict()\n",
    "for k,v in a.items():\n",
    "    if v % 2 == 0:\n",
    "        b[k] = v\n",
    "print(b)"
   ]
  },
  {
   "cell_type": "code",
   "execution_count": 84,
   "metadata": {},
   "outputs": [
    {
     "data": {
      "text/plain": [
       "{'sachin': 21}"
      ]
     },
     "execution_count": 84,
     "metadata": {},
     "output_type": "execute_result"
    }
   ],
   "source": [
    "b = {k: v for k,v in a.items() if v% 2 != 0 and v < 40}\n",
    "b"
   ]
  },
  {
   "cell_type": "code",
   "execution_count": 83,
   "metadata": {},
   "outputs": [
    {
     "name": "stdout",
     "output_type": "stream",
     "text": [
      "{'sachin': 21}\n"
     ]
    }
   ],
   "source": [
    "a ={'sachin': 21,'venkat': 24,'Guido': 57}\n",
    "b = dict()\n",
    "for k,v in a.items():\n",
    "    if v % 2 != 0 and v < 40:\n",
    "            b[k] = v\n",
    "print(b)"
   ]
  },
  {
   "cell_type": "code",
   "execution_count": 87,
   "metadata": {},
   "outputs": [
    {
     "name": "stdout",
     "output_type": "stream",
     "text": [
      "{'sachin': 'young', 'venkat': 'young', 'Guido': 'old'}\n"
     ]
    }
   ],
   "source": [
    "a ={'sachin': 21,'venkat': 24,'Guido': 57}\n",
    "b= {k:('old' if v > 40 else 'young') for k,v in a.items()}\n",
    "print(b)"
   ]
  },
  {
   "cell_type": "code",
   "execution_count": 88,
   "metadata": {},
   "outputs": [
    {
     "name": "stdout",
     "output_type": "stream",
     "text": [
      "{'sachin': 'young', 'venkat': 'young', 'Guido': 'old'}\n"
     ]
    }
   ],
   "source": [
    "a =  {'sachin': 21,'venkat': 24,'Guido': 57}\n",
    "b = dict()\n",
    "for k,v in a.items():\n",
    "    if v > 40:\n",
    "        b[k] = 'old'\n",
    "    else:\n",
    "        b[k] = 'young'\n",
    "print(b)"
   ]
  },
  {
   "cell_type": "code",
   "execution_count": null,
   "metadata": {},
   "outputs": [],
   "source": []
  }
 ],
 "metadata": {
  "kernelspec": {
   "display_name": "Python 3",
   "language": "python",
   "name": "python3"
  },
  "language_info": {
   "codemirror_mode": {
    "name": "ipython",
    "version": 3
   },
   "file_extension": ".py",
   "mimetype": "text/x-python",
   "name": "python",
   "nbconvert_exporter": "python",
   "pygments_lexer": "ipython3",
   "version": "3.8.5"
  }
 },
 "nbformat": 4,
 "nbformat_minor": 4
}
