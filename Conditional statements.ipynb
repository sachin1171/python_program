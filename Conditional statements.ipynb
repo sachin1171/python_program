{
 "cells": [
  {
   "cell_type": "code",
   "execution_count": 4,
   "metadata": {},
   "outputs": [],
   "source": [
    "x, y, z = 1, 2, 3"
   ]
  },
  {
   "cell_type": "code",
   "execution_count": 6,
   "metadata": {},
   "outputs": [
    {
     "data": {
      "text/plain": [
       "1"
      ]
     },
     "execution_count": 6,
     "metadata": {},
     "output_type": "execute_result"
    }
   ],
   "source": [
    "x"
   ]
  },
  {
   "cell_type": "code",
   "execution_count": 9,
   "metadata": {},
   "outputs": [],
   "source": [
    "if x > z:\n",
    "    print('x is less than z')"
   ]
  },
  {
   "cell_type": "code",
   "execution_count": 10,
   "metadata": {},
   "outputs": [
    {
     "data": {
      "text/plain": [
       "False"
      ]
     },
     "execution_count": 10,
     "metadata": {},
     "output_type": "execute_result"
    }
   ],
   "source": [
    "x>z"
   ]
  },
  {
   "cell_type": "code",
   "execution_count": 11,
   "metadata": {},
   "outputs": [
    {
     "data": {
      "text/plain": [
       "False"
      ]
     },
     "execution_count": 11,
     "metadata": {},
     "output_type": "execute_result"
    }
   ],
   "source": [
    "x == z"
   ]
  },
  {
   "cell_type": "code",
   "execution_count": 12,
   "metadata": {},
   "outputs": [
    {
     "data": {
      "text/plain": [
       "True"
      ]
     },
     "execution_count": 12,
     "metadata": {},
     "output_type": "execute_result"
    }
   ],
   "source": [
    "x!= y"
   ]
  },
  {
   "cell_type": "code",
   "execution_count": 13,
   "metadata": {},
   "outputs": [
    {
     "data": {
      "text/plain": [
       "True"
      ]
     },
     "execution_count": 13,
     "metadata": {},
     "output_type": "execute_result"
    }
   ],
   "source": [
    "x<z"
   ]
  },
  {
   "cell_type": "code",
   "execution_count": 16,
   "metadata": {},
   "outputs": [
    {
     "data": {
      "text/plain": [
       "False"
      ]
     },
     "execution_count": 16,
     "metadata": {},
     "output_type": "execute_result"
    }
   ],
   "source": [
    "x>=z"
   ]
  },
  {
   "cell_type": "code",
   "execution_count": 17,
   "metadata": {},
   "outputs": [
    {
     "data": {
      "text/plain": [
       "True"
      ]
     },
     "execution_count": 17,
     "metadata": {},
     "output_type": "execute_result"
    }
   ],
   "source": [
    "x<=z"
   ]
  },
  {
   "cell_type": "code",
   "execution_count": 18,
   "metadata": {},
   "outputs": [
    {
     "name": "stdout",
     "output_type": "stream",
     "text": [
      "x is equal to y\n"
     ]
    }
   ],
   "source": [
    "x,y = 8,8\n",
    "if x<y:\n",
    "    print('x is less than y')\n",
    "elif x==y:\n",
    "    print('x is equal to y')\n",
    "else:\n",
    "    print('x is greater than y')"
   ]
  },
  {
   "cell_type": "code",
   "execution_count": 25,
   "metadata": {},
   "outputs": [],
   "source": [
    "x,y =10,4\n",
    "st = 'x is less than y' if (x<y) else \"x is greater than y or x is equal to y\""
   ]
  },
  {
   "cell_type": "code",
   "execution_count": 27,
   "metadata": {},
   "outputs": [
    {
     "data": {
      "text/plain": [
       "False"
      ]
     },
     "execution_count": 27,
     "metadata": {},
     "output_type": "execute_result"
    }
   ],
   "source": [
    "x<y"
   ]
  },
  {
   "cell_type": "code",
   "execution_count": 30,
   "metadata": {},
   "outputs": [
    {
     "name": "stdout",
     "output_type": "stream",
     "text": [
      "False\n"
     ]
    }
   ],
   "source": [
    "x,y = 10,4\n",
    "if x<y:\n",
    "    print('x is less than y')\n",
    "else:\n",
    "    'x is greatert han y or x is equal to y'\n",
    "print(x<y)"
   ]
  },
  {
   "cell_type": "code",
   "execution_count": 49,
   "metadata": {},
   "outputs": [
    {
     "data": {
      "text/plain": [
       "[23, 45, 43, 23, 45]"
      ]
     },
     "execution_count": 49,
     "metadata": {},
     "output_type": "execute_result"
    }
   ],
   "source": [
    "my_list = [23, 34, 45, 43, 23, 48, 45]\n",
    "even_list =[]\n",
    "odd_list = []\n",
    "for i in my_list:\n",
    "    if i % 2 == 0:\n",
    "        even_list.append(i)\n",
    "    else:\n",
    "        odd_list.append(i)\n",
    "even_list\n",
    "odd_list"
   ]
  },
  {
   "cell_type": "code",
   "execution_count": 48,
   "metadata": {},
   "outputs": [
    {
     "data": {
      "text/plain": [
       "[23, 45, 43, 23, 45]"
      ]
     },
     "execution_count": 48,
     "metadata": {},
     "output_type": "execute_result"
    }
   ],
   "source": [
    "odd_list"
   ]
  },
  {
   "cell_type": "code",
   "execution_count": 52,
   "metadata": {},
   "outputs": [],
   "source": [
    "my_list = [12,23,34,56,45,34,23,78]\n",
    "new_list = []\n",
    "for i in my_list:\n",
    "    if i % 2 == 0:\n",
    "        new_list.append('even')\n",
    "    else:\n",
    "        new_list.append('odd')\n",
    "        "
   ]
  },
  {
   "cell_type": "code",
   "execution_count": 53,
   "metadata": {},
   "outputs": [
    {
     "data": {
      "text/plain": [
       "['even', 'odd', 'even', 'even', 'odd', 'even', 'odd', 'even']"
      ]
     },
     "execution_count": 53,
     "metadata": {},
     "output_type": "execute_result"
    }
   ],
   "source": [
    "new_list"
   ]
  },
  {
   "cell_type": "code",
   "execution_count": 59,
   "metadata": {},
   "outputs": [
    {
     "name": "stdout",
     "output_type": "stream",
     "text": [
      "the condition is satisfied\n"
     ]
    }
   ],
   "source": [
    "x = 2\n",
    "y = 1\n",
    "if ((x <=2) and (y>= 1)):\n",
    "    print('the condition is satisfied')"
   ]
  },
  {
   "cell_type": "code",
   "execution_count": 60,
   "metadata": {},
   "outputs": [
    {
     "name": "stdout",
     "output_type": "stream",
     "text": [
      "old people\n"
     ]
    }
   ],
   "source": [
    "age = 42\n",
    "if age > 18 and age< 25:\n",
    "    print('youth')\n",
    "elif age >1 and age <18:\n",
    "    print('chlideren')\n",
    "elif age >25 and age < 40:\n",
    "    print('old people')\n",
    "else:\n",
    "    print('old people')\n",
    "    "
   ]
  },
  {
   "cell_type": "code",
   "execution_count": 1,
   "metadata": {},
   "outputs": [
    {
     "data": {
      "text/plain": [
       "23"
      ]
     },
     "execution_count": 1,
     "metadata": {},
     "output_type": "execute_result"
    }
   ],
   "source": [
    "a = {5,6,7}\n",
    "sum(a,5)"
   ]
  },
  {
   "cell_type": "code",
   "execution_count": 3,
   "metadata": {},
   "outputs": [
    {
     "data": {
      "text/plain": [
       "1011"
      ]
     },
     "execution_count": 3,
     "metadata": {},
     "output_type": "execute_result"
    }
   ],
   "source": [
    "int(1011)"
   ]
  },
  {
   "cell_type": "code",
   "execution_count": 4,
   "metadata": {},
   "outputs": [
    {
     "name": "stdout",
     "output_type": "stream",
     "text": [
      "456   \n"
     ]
    }
   ],
   "source": [
    "x = 456\n",
    "print(\"%-06d\"%x)"
   ]
  },
  {
   "cell_type": "code",
   "execution_count": 6,
   "metadata": {},
   "outputs": [
    {
     "data": {
      "text/plain": [
       "8"
      ]
     },
     "execution_count": 6,
     "metadata": {},
     "output_type": "execute_result"
    }
   ],
   "source": [
    "4^12"
   ]
  },
  {
   "cell_type": "code",
   "execution_count": 7,
   "metadata": {},
   "outputs": [
    {
     "data": {
      "text/plain": [
       "(1, 2, 1, 2)"
      ]
     },
     "execution_count": 7,
     "metadata": {},
     "output_type": "execute_result"
    }
   ],
   "source": [
    "t =(1,2)\n",
    "2*t"
   ]
  },
  {
   "cell_type": "code",
   "execution_count": 8,
   "metadata": {},
   "outputs": [
    {
     "data": {
      "text/plain": [
       "'0xf'"
      ]
     },
     "execution_count": 8,
     "metadata": {},
     "output_type": "execute_result"
    }
   ],
   "source": [
    "hex(15)"
   ]
  },
  {
   "cell_type": "code",
   "execution_count": 11,
   "metadata": {},
   "outputs": [
    {
     "ename": "NameError",
     "evalue": "name 'cmp' is not defined",
     "output_type": "error",
     "traceback": [
      "\u001b[1;31m---------------------------------------------------------------------------\u001b[0m",
      "\u001b[1;31mNameError\u001b[0m                                 Traceback (most recent call last)",
      "\u001b[1;32m<ipython-input-11-f28667a931ee>\u001b[0m in \u001b[0;36m<module>\u001b[1;34m\u001b[0m\n\u001b[1;32m----> 1\u001b[1;33m \u001b[0mcmp\u001b[0m\u001b[1;33m(\u001b[0m\u001b[1;36m3\u001b[0m\u001b[1;33m,\u001b[0m\u001b[1;36m1\u001b[0m\u001b[1;33m)\u001b[0m\u001b[1;33m\u001b[0m\u001b[1;33m\u001b[0m\u001b[0m\n\u001b[0m",
      "\u001b[1;31mNameError\u001b[0m: name 'cmp' is not defined"
     ]
    }
   ],
   "source": [
    "cmp(3,1)"
   ]
  },
  {
   "cell_type": "code",
   "execution_count": 1,
   "metadata": {},
   "outputs": [
    {
     "name": "stdout",
     "output_type": "stream",
     "text": [
      "Original List :  [12, 12.3, 'sachin', (3+4j), True, 34, 34.4, 'likith', (3+5j), False, 1, 2, 3, 4, 5]\n",
      "Frequency of the elements in the List :  Counter({True: 2, 12: 1, 12.3: 1, 'sachin': 1, (3+4j): 1, 34: 1, 34.4: 1, 'likith': 1, (3+5j): 1, False: 1, 2: 1, 3: 1, 4: 1, 5: 1})\n"
     ]
    },
    {
     "data": {
      "text/plain": [
       "[5,\n",
       " 4,\n",
       " 3,\n",
       " 2,\n",
       " 1,\n",
       " False,\n",
       " (3+5j),\n",
       " 'likith',\n",
       " 34.4,\n",
       " 34,\n",
       " True,\n",
       " (3+4j),\n",
       " 'sachin',\n",
       " 12.3,\n",
       " 12]"
      ]
     },
     "execution_count": 1,
     "metadata": {},
     "output_type": "execute_result"
    }
   ],
   "source": [
    "a = [12,12.3,\"sachin\",3 + 4j,True]\n",
    "b = [34,34.4,\"likith\",3 + 5j,False]\n",
    "#a.\n",
    "e = [1,2,3,4,5]\n",
    "c= a+b+e\n",
    "c\n",
    "#b.\t\n",
    "import collections\n",
    "print(\"Original List : \",c)\n",
    "ctr = collections.Counter(c)\n",
    "print(\"Frequency of the elements in the List : \",ctr)\n",
    "#c.\t\n",
    "c.reverse()\n",
    "c"
   ]
  },
  {
   "cell_type": "code",
   "execution_count": 7,
   "metadata": {},
   "outputs": [
    {
     "name": "stdout",
     "output_type": "stream",
     "text": [
      "Original List :  [12, 12.3, 'sachin', (3+4j), True, 34, 34.4, 'likith', (3+5j), False, 1, 2, 3]\n",
      "Frequency of the elements in the List :  Counter({True: 2, 12: 1, 12.3: 1, 'sachin': 1, (3+4j): 1, 34: 1, 34.4: 1, 'likith': 1, (3+5j): 1, False: 1, 2: 1, 3: 1})\n"
     ]
    },
    {
     "data": {
      "text/plain": [
       "[3, 2, 1, False, (3+5j), 'likith', 34.4, 34, True, (3+4j), 'sachin', 12.3, 12]"
      ]
     },
     "execution_count": 7,
     "metadata": {},
     "output_type": "execute_result"
    }
   ],
   "source": [
    "a = [12,12.3,\"sachin\",3 + 4j,True]\n",
    "b = [34,34.4,\"likith\",3 + 5j,False]\n",
    "e  = [1,2,3]\n",
    "c= a+b+e\n",
    "c\n",
    "#b.\t\n",
    "import collections\n",
    "print(\"Original List : \",c)\n",
    "ctr = collections.Counter(c)\n",
    "print(\"Frequency of the elements in the List : \",ctr)\n",
    "#c.\t\n",
    "c.reverse()\n",
    "c"
   ]
  },
  {
   "cell_type": "code",
   "execution_count": 6,
   "metadata": {},
   "outputs": [
    {
     "data": {
      "text/plain": [
       "[12, 12.3, 'sachin', (3+4j), True, 34, 34.4, 'likith', (3+5j), False, 1, 23, 4]"
      ]
     },
     "execution_count": 6,
     "metadata": {},
     "output_type": "execute_result"
    }
   ],
   "source": [
    "a = [12,12.3,\"sachin\",3 + 4j,True]\n",
    "b = [34,34.4,\"likith\",3 + 5j,False]\n",
    "e  = [1,23,4]\n",
    "c= a+b+e\n",
    "c"
   ]
  },
  {
   "cell_type": "code",
   "execution_count": 8,
   "metadata": {},
   "outputs": [
    {
     "name": "stdout",
     "output_type": "stream",
     "text": [
      "{5, 6, 7, 8, 9, 10}\n",
      "{1, 2, 3, 4, 5, 6, 7, 8, 9, 10, 11, 12, 13, 14, 15}\n"
     ]
    },
    {
     "data": {
      "text/plain": [
       "{5, 6, 7, 8, 9, 10, 12, 13, 14, 15}"
      ]
     },
     "execution_count": 8,
     "metadata": {},
     "output_type": "execute_result"
    }
   ],
   "source": [
    "a ={1,2,3,4,5,6,7,8,9,10}\n",
    "b ={5,6,7,8,9,10,11,12,13,14,15}\n",
    "a\n",
    "b\n",
    "print(set(a).intersection(b))\n",
    "print(a|b)\n",
    "a.remove(7)\n",
    "a\n",
    "b.remove(11)\n",
    "b"
   ]
  },
  {
   "cell_type": "code",
   "execution_count": 10,
   "metadata": {},
   "outputs": [
    {
     "data": {
      "text/plain": [
       "{1, 2, 3, 4, 5, 6, 8, 9, 10}"
      ]
     },
     "execution_count": 10,
     "metadata": {},
     "output_type": "execute_result"
    }
   ],
   "source": [
    "a ={1,2,3,4,5,6,7,8,9,10}\n",
    "a.remove(7)\n",
    "a"
   ]
  },
  {
   "cell_type": "code",
   "execution_count": 11,
   "metadata": {},
   "outputs": [
    {
     "data": {
      "text/plain": [
       "{5, 6, 7, 8, 9, 10, 12, 13, 14, 15}"
      ]
     },
     "execution_count": 11,
     "metadata": {},
     "output_type": "execute_result"
    }
   ],
   "source": [
    "b ={5,6,7,8,9,10,11,12,13,14,15}\n",
    "b.remove(11)\n",
    "b"
   ]
  },
  {
   "cell_type": "code",
   "execution_count": 12,
   "metadata": {},
   "outputs": [
    {
     "data": {
      "text/plain": [
       "{'goa': 23,\n",
       " 'kerala': 2222,\n",
       " 'ap': 2345,\n",
       " 'ts': 345,\n",
       " 'delhi': 2334,\n",
       " 'america': 65}"
      ]
     },
     "execution_count": 12,
     "metadata": {},
     "output_type": "execute_result"
    }
   ],
   "source": [
    "\n",
    "covid_cases = {\"goa\":23,\"kerala\":2222,\"ap\":2345,\"ts\":345,\"delhi\":2334}\n",
    "covid_cases\n",
    "covid_cases.keys()\n",
    "covid_cases['america']=65\n",
    "covid_cases"
   ]
  },
  {
   "cell_type": "code",
   "execution_count": 13,
   "metadata": {},
   "outputs": [
    {
     "name": "stdout",
     "output_type": "stream",
     "text": [
      "it is a valid relation\n"
     ]
    }
   ],
   "source": [
    "x = 12345\n",
    "y = 543\n",
    "z = 399\n",
    "\n",
    "equation = 22*y + z\n",
    "\n",
    "if equation == x:\n",
    "    print('it is a valid relation')"
   ]
  },
  {
   "cell_type": "code",
   "execution_count": 14,
   "metadata": {},
   "outputs": [
    {
     "name": "stdout",
     "output_type": "stream",
     "text": [
      "False\n"
     ]
    }
   ],
   "source": [
    "print('s' in \"Data Science\")"
   ]
  },
  {
   "cell_type": "code",
   "execution_count": 1,
   "metadata": {},
   "outputs": [],
   "source": [
    "def people(age):\n",
    "    \n",
    "    if age < 10:\n",
    "        print(\"Children\")\n",
    "    if age > 60:\n",
    "        print(\"Senior citizen\")\n",
    "    if (age>10 and age<60):\n",
    "        print(\"Normal citizen\")"
   ]
  },
  {
   "cell_type": "code",
   "execution_count": 2,
   "metadata": {},
   "outputs": [
    {
     "name": "stdout",
     "output_type": "stream",
     "text": [
      "Children\n"
     ]
    }
   ],
   "source": [
    "people(8)"
   ]
  },
  {
   "cell_type": "code",
   "execution_count": null,
   "metadata": {},
   "outputs": [],
   "source": [
    "people()"
   ]
  }
 ],
 "metadata": {
  "kernelspec": {
   "display_name": "Python 3",
   "language": "python",
   "name": "python3"
  },
  "language_info": {
   "codemirror_mode": {
    "name": "ipython",
    "version": 3
   },
   "file_extension": ".py",
   "mimetype": "text/x-python",
   "name": "python",
   "nbconvert_exporter": "python",
   "pygments_lexer": "ipython3",
   "version": "3.8.5"
  }
 },
 "nbformat": 4,
 "nbformat_minor": 4
}
